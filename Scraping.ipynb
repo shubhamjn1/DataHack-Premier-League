{
 "cells": [
  {
   "cell_type": "markdown",
   "metadata": {},
   "source": [
    "### Scraping t20 batsman ranking"
   ]
  },
  {
   "cell_type": "code",
   "execution_count": 2,
   "metadata": {
    "collapsed": true
   },
   "outputs": [],
   "source": [
    "import sys,requests,csv,io\n",
    "from bs4 import BeautifulSoup\n",
    "from urllib.parse import urljoin\n",
    "\n",
    "url = \"http://www.cricbuzz.com/cricket-stats/icc-rankings/batsmen-rankings\"\n",
    "r = requests.get(url)\n",
    "r.content\n",
    "soup = BeautifulSoup(r.content, \"html.parser\")"
   ]
  },
  {
   "cell_type": "code",
   "execution_count": 28,
   "metadata": {
    "scrolled": true
   },
   "outputs": [
    {
     "name": "stdout",
     "output_type": "stream",
     "text": [
      "1,,,3,,Colin Munro,NEW ZEALAND,801,1\n",
      "2,,,5,,Glenn Maxwell,AUSTRALIA,799,2\n",
      "3,,,2,,Babar Azam,PAKISTAN,786,1\n",
      "4,,,2,,Aaron Finch,AUSTRALIA,763,1\n",
      "5,,,6,,Martin Guptill,NEW ZEALAND,747,1\n",
      "6,,,3,,Virat Kohli,INDIA,741,1\n",
      "7,,,2,,Evin Lewis,WINDIES,734,2\n",
      "8,,,2,,Lokesh Rahul,INDIA,683,4\n",
      "9,,,1,,Alex Hales,ENGLAND,679,1\n",
      "10,,,2,,Mohammad Shahzad,AFGHANISTAN,653,7\n",
      "11,,,–,,Hamilton Masakadza,ZIMBABWE,648,4\n",
      "12,,,2,,Hashim Amla,SOUTH AFRICA,643,8\n",
      "13,,,–,,Kane Williamson,NEW ZEALAND,634,3\n",
      "14,,,5,,Joe Root,ENGLAND,630,4\n",
      "15,,,2,,Eoin Morgan,ENGLAND,618,1\n",
      "16,,,–,,Shaiman Anwar,UNITED ARAB EMIRATES,615,12\n",
      "17,,,2,,Rohit Sharma,INDIA,604,11\n",
      "18,,,4,,Faf du Plessis,SOUTH AFRICA,594,3\n",
      "19,,,–,,David Warner,AUSTRALIA,589,1\n",
      "20,,,5,,Soumya Sarkar,BANGLADESH,581,20\n",
      "21,,,3,,Sabbir Rahman,BANGLADESH,578,10\n",
      "22,,,–,,Dawid Malan,ENGLAND,576,22\n",
      "23,,,–,,Malcolm Waller,ZIMBABWE,572,22\n",
      "24,,,4,,Jean-Paul Duminy,SOUTH AFRICA,568,6\n",
      "25,,,3,,Marlon Samuels,WINDIES,568,3\n",
      "26,,,6,,Jos Buttler,ENGLAND,558,18\n",
      "28,,,22,,Shikhar Dhawan,INDIA,552,28\n",
      "29,,,6,,David Miller,SOUTH AFRICA,551,22\n",
      "30,,,4,,Ahmed Shehzad,PAKISTAN,549,6\n",
      "31,,,4,,Chris Gayle,WINDIES,541,1\n",
      "32,,,11,,AB de Villiers,SOUTH AFRICA,540,14\n",
      "33,,,1,,Paul Stirling,IRELAND,525,25\n",
      "34,,,1,,MS Dhoni,INDIA,521,18\n",
      "35,,,5,,Jason Roy,ENGLAND,518,25\n",
      "36,,,12,,Quinton de Kock,SOUTH AFRICA,518,16\n",
      "37,,,3,,Shoaib Malik,PAKISTAN,518,4\n",
      "38,,,9,,Shakib Al Hasan,BANGLADESH,514,16\n",
      "39,,,1,,Mohammad Nabi,AFGHANISTAN,507,39\n",
      "40,,,9,,Kusal Perera,SRI LANKA,505,5\n",
      "41,,,4,,Najibullah Zadran,AFGHANISTAN,498,22\n",
      "42,,,2,,Suresh Raina,INDIA,483,2\n",
      "43,,,–,,Mahmudullah,BANGLADESH,481,43\n",
      "44,,,2,,Tamim Iqbal,BANGLADESH,469,22\n",
      "45,,,–,,William Porterfield,IRELAND,453,33\n",
      "46,,,1,,Gary Wilson,IRELAND,447,46\n",
      "47,,,10,,Thisara Perera,SRI LANKA,446,47\n",
      "48,,,4,,Asghar Stanikzai,AFGHANISTAN,439,48\n",
      "49,,,2,,Andre Fletcher,WINDIES,432,28\n",
      "50,,,33,,Manish Pandey,INDIA,429,50\n",
      "51,,,5,,Sarfraz Ahmed,PAKISTAN,417,51\n",
      "52,,,22,,Farhaan Behardien,SOUTH AFRICA,415,52\n",
      "53,,,5,,Ross Taylor,NEW ZEALAND,415,17\n",
      "55,,,–,,Mark Chapman,HONG KONG,408,55\n",
      "56,,,1,,Samiullah Shenwari,AFGHANISTAN,401,54\n",
      "57,,,2,,Lendl Simmons,WINDIES,399,11\n",
      "58,,,9,,Michael Klinger,AUSTRALIA,398,48\n",
      "59,,,3,,Mohammad Hafeez,PAKISTAN,392,10\n",
      "60,,,5,,Mohammad Usman,UNITED ARAB EMIRATES,377,60\n",
      "61,,,16,,Mushfiqur Rahim,BANGLADESH,375,46\n",
      "62,,,2,,Yuvraj Singh,INDIA,373,1\n",
      "63,,,7,,Kevin O Brien,IRELAND,364,54\n",
      "64,,,2,,Angelo Mathews,SRI LANKA,360,31\n",
      "65,,,6,,Fakhar Zaman,PAKISTAN,355,65\n",
      "66,,,–,,Brendan Taylor,ZIMBABWE,355,4\n",
      "67,,,–,,Reeza Hendricks,SOUTH AFRICA,347,65\n",
      "68,,,8,,Rohan Mustafa,UNITED ARAB EMIRATES,346,68\n",
      "69,,,4,,Noor Ali Zadran,AFGHANISTAN,336,30\n",
      "70,,,7,,Travis Head,AUSTRALIA,335,61\n",
      "71,,,4,,Niroshan Dickwella,SRI LANKA,334,71\n",
      "72,,,–,,Danushka Gunathilaka,SRI LANKA,330,72\n",
      "73,,,4,,Corey Anderson,NEW ZEALAND,330,54\n",
      "74,,,5,,Chamara Kapugedera,SRI LANKA,329,15\n",
      "75,,,–,,Kusal Mendis,SRI LANKA,326,75\n",
      "76,,,4,,Dinesh Chandimal,SRI LANKA,323,46\n",
      "77,,,4,,Asela Gunaratne,SRI LANKA,314,68\n",
      "78,,,7,,Kieron Pollard,WINDIES,303,23\n",
      "79,,,–,,James Vince,ENGLAND,287,51\n",
      "80,,,6,,Najeeb Tarakai,AFGHANISTAN,287,80\n",
      "81,,,–,,Dasun Shanaka,SRI LANKA,284,81\n",
      "83,,,1,,George Bailey,AUSTRALIA,279,28\n",
      "84,,,4,,Gulbadin Naib,AFGHANISTAN,277,64\n",
      "85,,,4,,Dilshan Munaweera,SRI LANKA,272,82\n",
      "86,,,4,,Darren Sammy,WINDIES,272,56\n",
      "87,,,6,,Rameez Shahzad,UNITED ARAB EMIRATES,269,87\n",
      "88,,,1,,Moises Henriques,AUSTRALIA,259,84\n",
      "90,,,–,,Sikandar Raza,ZIMBABWE,253,77\n",
      "91,,,1,,Jonny Bairstow,ENGLAND,250,46\n",
      "92,,,4,,Usman Ghani,AFGHANISTAN,249,55\n",
      "93,,,5,,Carlos Brathwaite,WINDIES,249,93\n",
      "94,,,6,,Sese Bau,PAPUA NEW GUINEA,244,94\n",
      "95,,,–,,Upul Tharanga,SRI LANKA,242,16\n",
      "96,,,1,,Ben Dunk,AUSTRALIA,235,92\n",
      "97,,,–,,Shafiqullah Shafiq,AFGHANISTAN,234,95\n",
      "98,,,–,,Karim Sadiq,AFGHANISTAN,233,46\n",
      "99,,,2,,Luke Ronchi,NEW ZEALAND,231,53\n",
      "100,,,–,,Mangaliso Mosehle,SOUTH AFRICA,229,95\n"
     ]
    }
   ],
   "source": [
    "lis = []\n",
    "maindiv = soup.select(\"#batsmen-t20s div.text-center\")\n",
    "for d in maindiv[1:]:\n",
    "    row_data = u\",\".join(s.strip() for s in filter(None, (t.find(text=True, recursive=False) for t in d.find_all())))\n",
    "    if row_data:\n",
    "        print(row_data)\n",
    "        lis.append(row_data)"
   ]
  },
  {
   "cell_type": "code",
   "execution_count": 29,
   "metadata": {},
   "outputs": [],
   "source": [
    "import pandas as pd\n",
    "df = pd.DataFrame(lis,columns = ['rankings'])"
   ]
  },
  {
   "cell_type": "code",
   "execution_count": 30,
   "metadata": {},
   "outputs": [],
   "source": [
    "df['current_rank'] = df['rankings'].apply(lambda x: str(x).split(',')[0])\n",
    "df['batsman'] = df['rankings'].apply(lambda x: str(x).split(',')[5])\n",
    "df['rating'] = df['rankings'].apply(lambda x: str(x).split(',')[7])\n",
    "df['best_rank'] = df['rankings'].apply(lambda x: str(x).split(',')[8])"
   ]
  },
  {
   "cell_type": "code",
   "execution_count": 32,
   "metadata": {},
   "outputs": [],
   "source": [
    "df.drop('rankings',axis=1,inplace=True)"
   ]
  },
  {
   "cell_type": "code",
   "execution_count": 36,
   "metadata": {},
   "outputs": [],
   "source": [
    "df.to_csv('/Users/shubhamjain/Downloads/AV/IPL/rating.csv', index=False)"
   ]
  },
  {
   "cell_type": "code",
   "execution_count": 37,
   "metadata": {},
   "outputs": [
    {
     "data": {
      "text/html": [
       "<div>\n",
       "<style scoped>\n",
       "    .dataframe tbody tr th:only-of-type {\n",
       "        vertical-align: middle;\n",
       "    }\n",
       "\n",
       "    .dataframe tbody tr th {\n",
       "        vertical-align: top;\n",
       "    }\n",
       "\n",
       "    .dataframe thead th {\n",
       "        text-align: right;\n",
       "    }\n",
       "</style>\n",
       "<table border=\"1\" class=\"dataframe\">\n",
       "  <thead>\n",
       "    <tr style=\"text-align: right;\">\n",
       "      <th></th>\n",
       "      <th>current_rank</th>\n",
       "      <th>batsman</th>\n",
       "      <th>rating</th>\n",
       "      <th>best_rank</th>\n",
       "    </tr>\n",
       "  </thead>\n",
       "  <tbody>\n",
       "    <tr>\n",
       "      <th>0</th>\n",
       "      <td>1</td>\n",
       "      <td>Colin Munro</td>\n",
       "      <td>801</td>\n",
       "      <td>1</td>\n",
       "    </tr>\n",
       "    <tr>\n",
       "      <th>1</th>\n",
       "      <td>2</td>\n",
       "      <td>Glenn Maxwell</td>\n",
       "      <td>799</td>\n",
       "      <td>2</td>\n",
       "    </tr>\n",
       "    <tr>\n",
       "      <th>2</th>\n",
       "      <td>3</td>\n",
       "      <td>Babar Azam</td>\n",
       "      <td>786</td>\n",
       "      <td>1</td>\n",
       "    </tr>\n",
       "    <tr>\n",
       "      <th>3</th>\n",
       "      <td>4</td>\n",
       "      <td>Aaron Finch</td>\n",
       "      <td>763</td>\n",
       "      <td>1</td>\n",
       "    </tr>\n",
       "    <tr>\n",
       "      <th>4</th>\n",
       "      <td>5</td>\n",
       "      <td>Martin Guptill</td>\n",
       "      <td>747</td>\n",
       "      <td>1</td>\n",
       "    </tr>\n",
       "  </tbody>\n",
       "</table>\n",
       "</div>"
      ],
      "text/plain": [
       "  current_rank         batsman rating best_rank\n",
       "0            1     Colin Munro    801         1\n",
       "1            2   Glenn Maxwell    799         2\n",
       "2            3      Babar Azam    786         1\n",
       "3            4     Aaron Finch    763         1\n",
       "4            5  Martin Guptill    747         1"
      ]
     },
     "execution_count": 37,
     "metadata": {},
     "output_type": "execute_result"
    }
   ],
   "source": [
    "df.head()"
   ]
  },
  {
   "cell_type": "code",
   "execution_count": 108,
   "metadata": {
    "collapsed": true
   },
   "outputs": [],
   "source": [
    "## auction data\n",
    "\n",
    "auction = pd.read_csv('/Users/shubhamjain/Downloads/AV/IPL/cricbuzz_ipl.csv')"
   ]
  },
  {
   "cell_type": "code",
   "execution_count": 109,
   "metadata": {},
   "outputs": [],
   "source": [
    "auction['country'] = auction['role'].apply(lambda x: str(x).split()[-1])"
   ]
  },
  {
   "cell_type": "code",
   "execution_count": 116,
   "metadata": {},
   "outputs": [],
   "source": [
    "auction['Price'] = auction['final_price'].apply(lambda x: str(x).split()[0])\n",
    "auction['final_price'] = auction['final_price'].apply(lambda x: str(x).split()[1])"
   ]
  },
  {
   "cell_type": "code",
   "execution_count": 117,
   "metadata": {},
   "outputs": [],
   "source": [
    "auction = auction.loc[auction['Price'] != '-']"
   ]
  },
  {
   "cell_type": "code",
   "execution_count": 127,
   "metadata": {},
   "outputs": [],
   "source": [
    "auction.loc[auction['final_price'] == 'Crore', 'Price'] = auction.loc[auction['final_price'] == 'Crore', 'Price'].astype('float') * 100"
   ]
  },
  {
   "cell_type": "code",
   "execution_count": 133,
   "metadata": {
    "scrolled": true
   },
   "outputs": [],
   "source": [
    "df = auction[['player','Price','country']]"
   ]
  },
  {
   "cell_type": "code",
   "execution_count": 135,
   "metadata": {},
   "outputs": [
    {
     "data": {
      "text/html": [
       "<div>\n",
       "<style scoped>\n",
       "    .dataframe tbody tr th:only-of-type {\n",
       "        vertical-align: middle;\n",
       "    }\n",
       "\n",
       "    .dataframe tbody tr th {\n",
       "        vertical-align: top;\n",
       "    }\n",
       "\n",
       "    .dataframe thead th {\n",
       "        text-align: right;\n",
       "    }\n",
       "</style>\n",
       "<table border=\"1\" class=\"dataframe\">\n",
       "  <thead>\n",
       "    <tr style=\"text-align: right;\">\n",
       "      <th></th>\n",
       "      <th>player</th>\n",
       "      <th>Price</th>\n",
       "      <th>country</th>\n",
       "    </tr>\n",
       "  </thead>\n",
       "  <tbody>\n",
       "    <tr>\n",
       "      <th>0</th>\n",
       "      <td>Ben Stokes</td>\n",
       "      <td>1250</td>\n",
       "      <td>England</td>\n",
       "    </tr>\n",
       "    <tr>\n",
       "      <th>1</th>\n",
       "      <td>Jaydev Unadkat</td>\n",
       "      <td>1150</td>\n",
       "      <td>India</td>\n",
       "    </tr>\n",
       "    <tr>\n",
       "      <th>2</th>\n",
       "      <td>Manish Pandey</td>\n",
       "      <td>1100</td>\n",
       "      <td>India</td>\n",
       "    </tr>\n",
       "    <tr>\n",
       "      <th>3</th>\n",
       "      <td>Lokesh Rahul</td>\n",
       "      <td>1100</td>\n",
       "      <td>India</td>\n",
       "    </tr>\n",
       "    <tr>\n",
       "      <th>4</th>\n",
       "      <td>Chris Lynn</td>\n",
       "      <td>960</td>\n",
       "      <td>Australia</td>\n",
       "    </tr>\n",
       "  </tbody>\n",
       "</table>\n",
       "</div>"
      ],
      "text/plain": [
       "             player Price    country\n",
       "0       Ben Stokes   1250    England\n",
       "1   Jaydev Unadkat   1150      India\n",
       "2    Manish Pandey   1100      India\n",
       "3     Lokesh Rahul   1100      India\n",
       "4       Chris Lynn    960  Australia"
      ]
     },
     "execution_count": 135,
     "metadata": {},
     "output_type": "execute_result"
    }
   ],
   "source": [
    "df.head()"
   ]
  },
  {
   "cell_type": "code",
   "execution_count": 139,
   "metadata": {},
   "outputs": [
    {
     "data": {
      "text/plain": [
       "India          113\n",
       "Australia       17\n",
       "England          8\n",
       "Africa           8\n",
       "Windies          7\n",
       "Zealand          7\n",
       "Afghanistan      4\n",
       "Lanka            2\n",
       "Bangladesh       2\n",
       "Nepal            1\n",
       "Name: country, dtype: int64"
      ]
     },
     "execution_count": 139,
     "metadata": {},
     "output_type": "execute_result"
    }
   ],
   "source": [
    "df['country'].value_counts()"
   ]
  },
  {
   "cell_type": "code",
   "execution_count": 145,
   "metadata": {},
   "outputs": [],
   "source": [
    "retained = pd.DataFrame(data = {\n",
    "    'player': ['MS Dhoni','Suresh Raina','Ravindra Jadeja', 'Rishabh Pant', 'Chris Morris', 'Shreyas Iyer',\n",
    "              'Axar Patel', 'Sunil Narine', 'Andre Russell', 'Rohit Sharma', 'Hardik Pandya', 'Jasprit Bumrah',\n",
    "              'Steve Smith', 'Virat Kohli', 'AB de Villiers', 'Sarfaraz Khan', 'David Warner', 'Bhuvneshwar Kumar'],\n",
    "    'Price': [15,11,7,8,7.1,7,6.75,8.5,7,15,11,7,12,17,11,1.75,12,8.5] ,\n",
    "    'country':['India','India','India','India','Africa','India','India','Windies', 'Windies','India','India','India',\n",
    "              'Australia','India','Africa','India','Australia','India']\n",
    " })"
   ]
  },
  {
   "cell_type": "code",
   "execution_count": 149,
   "metadata": {},
   "outputs": [],
   "source": [
    "retained['Price'] = retained['Price'] * 100"
   ]
  },
  {
   "cell_type": "code",
   "execution_count": 152,
   "metadata": {},
   "outputs": [],
   "source": [
    "df = pd.concat([df,retained]).reset_index(drop=True)"
   ]
  },
  {
   "cell_type": "code",
   "execution_count": 175,
   "metadata": {},
   "outputs": [
    {
     "data": {
      "text/plain": [
       "'Ben Stokes'"
      ]
     },
     "execution_count": 175,
     "metadata": {},
     "output_type": "execute_result"
    }
   ],
   "source": [
    "df['player'][0]"
   ]
  },
  {
   "cell_type": "code",
   "execution_count": 173,
   "metadata": {},
   "outputs": [],
   "source": [
    "df.ix[:168,'player'] = df.ix[:168,'player'].apply(lambda x: str(x).split(\" \")[1] +\" \"+ str(x).split(\" \")[2])"
   ]
  },
  {
   "cell_type": "code",
   "execution_count": 174,
   "metadata": {
    "collapsed": true
   },
   "outputs": [],
   "source": [
    "df.to_csv('/Users/shubhamjain/Downloads/AV/IPL/cricbuzz_ipl.csv', index=False)"
   ]
  },
  {
   "cell_type": "code",
   "execution_count": null,
   "metadata": {
    "collapsed": true
   },
   "outputs": [],
   "source": []
  }
 ],
 "metadata": {
  "kernelspec": {
   "display_name": "Python 3",
   "language": "python",
   "name": "python3"
  },
  "language_info": {
   "codemirror_mode": {
    "name": "ipython",
    "version": 3
   },
   "file_extension": ".py",
   "mimetype": "text/x-python",
   "name": "python",
   "nbconvert_exporter": "python",
   "pygments_lexer": "ipython3",
   "version": "3.6.1"
  }
 },
 "nbformat": 4,
 "nbformat_minor": 2
}
