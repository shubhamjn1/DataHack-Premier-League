{
 "cells": [
  {
   "cell_type": "markdown",
   "metadata": {},
   "source": [
    "## TODOs:\n",
    "\n",
    "1. bowler rank scraping\n",
    "2. KL rahul name "
   ]
  },
  {
   "cell_type": "code",
   "execution_count": 1,
   "metadata": {
    "collapsed": true
   },
   "outputs": [],
   "source": [
    "# import\n",
    "import warnings\n",
    "warnings.filterwarnings('ignore')\n",
    "\n",
    "import pandas as pd\n",
    "import numpy as np\n",
    "\n",
    "import matplotlib.pyplot as plt\n",
    "%matplotlib inline\n",
    "\n",
    "import seaborn as sns\n",
    "\n",
    "from sklearn.ensemble import RandomForestRegressor\n",
    "from sklearn.model_selection import train_test_split\n",
    "\n",
    "pd.set_option('max_columns',100)\n",
    "\n",
    "\n",
    "import os\n",
    "os.chdir('/Users/shubhamjain/Downloads/AV/IPL/')"
   ]
  },
  {
   "cell_type": "code",
   "execution_count": 2,
   "metadata": {
    "collapsed": true
   },
   "outputs": [],
   "source": [
    "#xi = pd.read_csv('saved/playing_xi.csv')"
   ]
  },
  {
   "cell_type": "code",
   "execution_count": 2,
   "metadata": {
    "collapsed": true
   },
   "outputs": [],
   "source": [
    "## training data\n",
    "\n",
    "ball_data = pd.read_csv('train/ball_by_ball_data.csv')\n",
    "match_data = pd.read_csv('train/match_data.csv')\n",
    "key_teams = pd.read_csv('train/key_teams.csv')\n",
    "players = pd.read_csv('train/player_rosters.csv')\n",
    "player_attributes = pd.read_csv('player_attributes.csv')\n",
    "\n",
    "## test data\n",
    "\n",
    "test_player = pd.read_csv('test/player_predictions.csv')\n",
    "test_matches = pd.read_csv('test/matches_2018.csv')\n",
    "test_extras = pd.read_csv('test/total_extras.csv')\n",
    "\n",
    "## submission\n",
    "\n",
    "sub_player = pd.read_csv('sample_submission/player_predictions.csv')\n",
    "sub_extras = pd.read_csv('sample_submission/total_extras.csv')"
   ]
  },
  {
   "cell_type": "code",
   "execution_count": 3,
   "metadata": {
    "collapsed": true
   },
   "outputs": [],
   "source": [
    "## features\n",
    "\n",
    "batsman = pd.read_csv('saved/batsman.csv')\n",
    "bowler = pd.read_csv('saved/bowler.csv')"
   ]
  },
  {
   "cell_type": "code",
   "execution_count": 4,
   "metadata": {
    "collapsed": true
   },
   "outputs": [],
   "source": [
    "ids = test_player['player_id'].unique()"
   ]
  },
  {
   "cell_type": "code",
   "execution_count": 5,
   "metadata": {
    "collapsed": true
   },
   "outputs": [],
   "source": [
    "## treating KL rahul, b kumar, duminy\n",
    "\n",
    "batsman.loc[batsman['batsman'] == 'B Kumar', 'player_id'] = 691\n",
    "batsman.loc[batsman['batsman'] == 'J P Duminy', 'player_id'] = 677\n",
    "batsman.loc[batsman['batsman'] == 'KL Rahul', 'player_id'] = 668\n",
    "\n",
    "batsman.loc[batsman['batsman'] == 'B Kumar', 'country'] = 'India'\n",
    "batsman.loc[batsman['batsman'] == 'J P Duminy', 'country'] = 'Africa'\n",
    "batsman.loc[batsman['batsman'] == 'KL Rahul', 'country'] = 'India'\n",
    "\n",
    "batsman.loc[batsman['batsman'] == 'B Kumar', 'Price'] = 850\n",
    "batsman.loc[batsman['batsman'] == 'J P Duminy', 'Price'] = 100\n",
    "batsman.loc[batsman['batsman'] == 'KL Rahul', 'Price'] = 1100\n",
    "\n",
    "batsman.loc[batsman['batsman'] == 'B Kumar', 'role'] = 'Bowler'\n",
    "batsman.loc[batsman['batsman'] == 'J P Duminy', 'role'] = 'Batsman'\n",
    "batsman.loc[batsman['batsman'] == 'KL Rahul', 'role'] = 'WK-Batsman'"
   ]
  },
  {
   "cell_type": "code",
   "execution_count": 6,
   "metadata": {
    "collapsed": true
   },
   "outputs": [],
   "source": [
    "bowler.loc[bowler['bowler'] == 'B Kumar', 'player_id'] = 691\n",
    "bowler.loc[bowler['bowler'] == 'J P Duminy', 'player_id'] = 677\n",
    "bowler.loc[bowler['bowler'] == 'KL Rahul', 'player_id'] = 668\n",
    "\n",
    "bowler.loc[bowler['bowler'] == 'B Kumar', 'country'] = 'India'\n",
    "bowler.loc[bowler['bowler'] == 'J P Duminy', 'country'] = 'Africa'\n",
    "bowler.loc[bowler['bowler'] == 'KL Rahul', 'country'] = 'India'\n",
    "\n",
    "bowler.loc[bowler['bowler'] == 'B Kumar', 'Price'] = 850\n",
    "bowler.loc[bowler['bowler'] == 'J P Duminy', 'Price'] = 100\n",
    "bowler.loc[bowler['bowler'] == 'KL Rahul', 'Price'] = 1100\n",
    "\n",
    "bowler.loc[bowler['bowler'] == 'B Kumar', 'role'] = 'Bowler'\n",
    "bowler.loc[bowler['bowler'] == 'J P Duminy', 'role'] = 'bowler'\n",
    "bowler.loc[bowler['bowler'] == 'KL Rahul', 'role'] = 'WK-bowler'"
   ]
  },
  {
   "cell_type": "code",
   "execution_count": 7,
   "metadata": {
    "collapsed": true
   },
   "outputs": [],
   "source": [
    "## save\n",
    "\n",
    "batsman.to_csv('saved/new_batsman.csv', index=False)\n",
    "bowler.to_csv('saved/new_bowler.csv', index=False)"
   ]
  },
  {
   "cell_type": "code",
   "execution_count": 8,
   "metadata": {
    "collapsed": true
   },
   "outputs": [],
   "source": [
    "batsman = batsman[batsman['player_id'].isin(ids)]\n",
    "bowler = bowler[bowler['player_id'].isin(ids)]"
   ]
  },
  {
   "cell_type": "code",
   "execution_count": 9,
   "metadata": {},
   "outputs": [
    {
     "data": {
      "text/html": [
       "<div>\n",
       "<style scoped>\n",
       "    .dataframe tbody tr th:only-of-type {\n",
       "        vertical-align: middle;\n",
       "    }\n",
       "\n",
       "    .dataframe tbody tr th {\n",
       "        vertical-align: top;\n",
       "    }\n",
       "\n",
       "    .dataframe thead th {\n",
       "        text-align: right;\n",
       "    }\n",
       "</style>\n",
       "<table border=\"1\" class=\"dataframe\">\n",
       "  <thead>\n",
       "    <tr style=\"text-align: right;\">\n",
       "      <th></th>\n",
       "      <th>bowler</th>\n",
       "      <th>player_id</th>\n",
       "      <th>role</th>\n",
       "      <th>bowling_style</th>\n",
       "      <th>bowling_arm</th>\n",
       "      <th>Price</th>\n",
       "      <th>country</th>\n",
       "      <th>overs_bowled</th>\n",
       "      <th>consistency</th>\n",
       "      <th>wickets</th>\n",
       "      <th>attacking</th>\n",
       "      <th>maidan_overs</th>\n",
       "      <th>dot%</th>\n",
       "      <th>boundary%</th>\n",
       "      <th>strike_rate</th>\n",
       "      <th>orange_cap</th>\n",
       "      <th>prev_match_count</th>\n",
       "      <th>hauls</th>\n",
       "      <th>experience</th>\n",
       "      <th>Team_Consistency</th>\n",
       "      <th>mom</th>\n",
       "      <th>avg_first_ing</th>\n",
       "      <th>avg_second_ing</th>\n",
       "      <th>bharosa</th>\n",
       "      <th>bharosa2</th>\n",
       "      <th>Team</th>\n",
       "    </tr>\n",
       "  </thead>\n",
       "  <tbody>\n",
       "    <tr>\n",
       "      <th>41</th>\n",
       "      <td>Ankit Rajput</td>\n",
       "      <td>471.0</td>\n",
       "      <td>Bowler</td>\n",
       "      <td>Medium</td>\n",
       "      <td>Right-Arm</td>\n",
       "      <td>NaN</td>\n",
       "      <td>NaN</td>\n",
       "      <td>25</td>\n",
       "      <td>7.680000</td>\n",
       "      <td>7.0</td>\n",
       "      <td>0.280000</td>\n",
       "      <td>NaN</td>\n",
       "      <td>0.453333</td>\n",
       "      <td>1.000000</td>\n",
       "      <td>4.666667</td>\n",
       "      <td>4.0</td>\n",
       "      <td>5.0</td>\n",
       "      <td>0.0</td>\n",
       "      <td>9</td>\n",
       "      <td>1.333333</td>\n",
       "      <td>0.0</td>\n",
       "      <td>0.500000</td>\n",
       "      <td>1.000000</td>\n",
       "      <td>0.222222</td>\n",
       "      <td>27.428571</td>\n",
       "      <td>KXI</td>\n",
       "    </tr>\n",
       "    <tr>\n",
       "      <th>44</th>\n",
       "      <td>Colin de Grandhomme</td>\n",
       "      <td>610.0</td>\n",
       "      <td>Batting Allrounder</td>\n",
       "      <td>Fast-Medium</td>\n",
       "      <td>Right-Arm</td>\n",
       "      <td>NaN</td>\n",
       "      <td>NaN</td>\n",
       "      <td>17</td>\n",
       "      <td>7.588235</td>\n",
       "      <td>4.0</td>\n",
       "      <td>0.235294</td>\n",
       "      <td>NaN</td>\n",
       "      <td>0.382353</td>\n",
       "      <td>0.941176</td>\n",
       "      <td>3.921569</td>\n",
       "      <td>4.0</td>\n",
       "      <td>9.0</td>\n",
       "      <td>0.0</td>\n",
       "      <td>9</td>\n",
       "      <td>1.000000</td>\n",
       "      <td>0.0</td>\n",
       "      <td>0.142857</td>\n",
       "      <td>1.500000</td>\n",
       "      <td>0.111111</td>\n",
       "      <td>32.250000</td>\n",
       "      <td>RCB</td>\n",
       "    </tr>\n",
       "    <tr>\n",
       "      <th>58</th>\n",
       "      <td>Shakib Al Hasan</td>\n",
       "      <td>359.0</td>\n",
       "      <td>Batting Allrounder</td>\n",
       "      <td>Orthodox</td>\n",
       "      <td>Left-Arm</td>\n",
       "      <td>NaN</td>\n",
       "      <td>NaN</td>\n",
       "      <td>48</td>\n",
       "      <td>8.083333</td>\n",
       "      <td>9.0</td>\n",
       "      <td>0.187500</td>\n",
       "      <td>NaN</td>\n",
       "      <td>0.385417</td>\n",
       "      <td>1.437500</td>\n",
       "      <td>3.125000</td>\n",
       "      <td>NaN</td>\n",
       "      <td>1.0</td>\n",
       "      <td>0.0</td>\n",
       "      <td>14</td>\n",
       "      <td>4.000000</td>\n",
       "      <td>0.0</td>\n",
       "      <td>0.714286</td>\n",
       "      <td>0.571429</td>\n",
       "      <td>0.500000</td>\n",
       "      <td>43.111111</td>\n",
       "      <td>SRH</td>\n",
       "    </tr>\n",
       "    <tr>\n",
       "      <th>61</th>\n",
       "      <td>Washington Sunder</td>\n",
       "      <td>631.0</td>\n",
       "      <td>Batting Allrounder</td>\n",
       "      <td>Offbreak</td>\n",
       "      <td>Right-Arm</td>\n",
       "      <td>NaN</td>\n",
       "      <td>NaN</td>\n",
       "      <td>30</td>\n",
       "      <td>6.100000</td>\n",
       "      <td>8.0</td>\n",
       "      <td>0.266667</td>\n",
       "      <td>NaN</td>\n",
       "      <td>0.483333</td>\n",
       "      <td>0.766667</td>\n",
       "      <td>4.444444</td>\n",
       "      <td>8.0</td>\n",
       "      <td>10.0</td>\n",
       "      <td>0.0</td>\n",
       "      <td>10</td>\n",
       "      <td>1.000000</td>\n",
       "      <td>1.0</td>\n",
       "      <td>0.600000</td>\n",
       "      <td>1.000000</td>\n",
       "      <td>0.300000</td>\n",
       "      <td>22.875000</td>\n",
       "      <td>RCB</td>\n",
       "    </tr>\n",
       "    <tr>\n",
       "      <th>78</th>\n",
       "      <td>Gurkeerat Singh Mann</td>\n",
       "      <td>443.0</td>\n",
       "      <td>Batsman</td>\n",
       "      <td>Offbreak</td>\n",
       "      <td>Right-Arm</td>\n",
       "      <td>NaN</td>\n",
       "      <td>NaN</td>\n",
       "      <td>13</td>\n",
       "      <td>7.153846</td>\n",
       "      <td>5.0</td>\n",
       "      <td>0.384615</td>\n",
       "      <td>NaN</td>\n",
       "      <td>0.346154</td>\n",
       "      <td>1.461538</td>\n",
       "      <td>6.410256</td>\n",
       "      <td>NaN</td>\n",
       "      <td>NaN</td>\n",
       "      <td>0.0</td>\n",
       "      <td>6</td>\n",
       "      <td>3.500000</td>\n",
       "      <td>0.0</td>\n",
       "      <td>0.500000</td>\n",
       "      <td>1.000000</td>\n",
       "      <td>0.000000</td>\n",
       "      <td>18.600000</td>\n",
       "      <td>DD</td>\n",
       "    </tr>\n",
       "    <tr>\n",
       "      <th>82</th>\n",
       "      <td>Pradeep Sahu</td>\n",
       "      <td>664.0</td>\n",
       "      <td>Batting Allrounder</td>\n",
       "      <td>Break</td>\n",
       "      <td>Leg</td>\n",
       "      <td>NaN</td>\n",
       "      <td>NaN</td>\n",
       "      <td>18</td>\n",
       "      <td>8.000000</td>\n",
       "      <td>3.0</td>\n",
       "      <td>0.166667</td>\n",
       "      <td>NaN</td>\n",
       "      <td>0.361111</td>\n",
       "      <td>1.055556</td>\n",
       "      <td>2.777778</td>\n",
       "      <td>NaN</td>\n",
       "      <td>NaN</td>\n",
       "      <td>0.0</td>\n",
       "      <td>5</td>\n",
       "      <td>2.000000</td>\n",
       "      <td>0.0</td>\n",
       "      <td>NaN</td>\n",
       "      <td>1.000000</td>\n",
       "      <td>0.600000</td>\n",
       "      <td>48.000000</td>\n",
       "      <td>KXI</td>\n",
       "    </tr>\n",
       "  </tbody>\n",
       "</table>\n",
       "</div>"
      ],
      "text/plain": [
       "                  bowler  player_id                role bowling_style  \\\n",
       "41          Ankit Rajput      471.0              Bowler        Medium   \n",
       "44   Colin de Grandhomme      610.0  Batting Allrounder   Fast-Medium   \n",
       "58       Shakib Al Hasan      359.0  Batting Allrounder      Orthodox   \n",
       "61     Washington Sunder      631.0  Batting Allrounder      Offbreak   \n",
       "78  Gurkeerat Singh Mann      443.0             Batsman      Offbreak   \n",
       "82          Pradeep Sahu      664.0  Batting Allrounder         Break   \n",
       "\n",
       "   bowling_arm  Price country  overs_bowled  consistency  wickets  attacking  \\\n",
       "41   Right-Arm    NaN     NaN            25     7.680000      7.0   0.280000   \n",
       "44   Right-Arm    NaN     NaN            17     7.588235      4.0   0.235294   \n",
       "58    Left-Arm    NaN     NaN            48     8.083333      9.0   0.187500   \n",
       "61   Right-Arm    NaN     NaN            30     6.100000      8.0   0.266667   \n",
       "78   Right-Arm    NaN     NaN            13     7.153846      5.0   0.384615   \n",
       "82         Leg    NaN     NaN            18     8.000000      3.0   0.166667   \n",
       "\n",
       "    maidan_overs      dot%  boundary%  strike_rate  orange_cap  \\\n",
       "41           NaN  0.453333   1.000000     4.666667         4.0   \n",
       "44           NaN  0.382353   0.941176     3.921569         4.0   \n",
       "58           NaN  0.385417   1.437500     3.125000         NaN   \n",
       "61           NaN  0.483333   0.766667     4.444444         8.0   \n",
       "78           NaN  0.346154   1.461538     6.410256         NaN   \n",
       "82           NaN  0.361111   1.055556     2.777778         NaN   \n",
       "\n",
       "    prev_match_count  hauls  experience  Team_Consistency  mom  avg_first_ing  \\\n",
       "41               5.0    0.0           9          1.333333  0.0       0.500000   \n",
       "44               9.0    0.0           9          1.000000  0.0       0.142857   \n",
       "58               1.0    0.0          14          4.000000  0.0       0.714286   \n",
       "61              10.0    0.0          10          1.000000  1.0       0.600000   \n",
       "78               NaN    0.0           6          3.500000  0.0       0.500000   \n",
       "82               NaN    0.0           5          2.000000  0.0            NaN   \n",
       "\n",
       "    avg_second_ing   bharosa   bharosa2 Team  \n",
       "41        1.000000  0.222222  27.428571  KXI  \n",
       "44        1.500000  0.111111  32.250000  RCB  \n",
       "58        0.571429  0.500000  43.111111  SRH  \n",
       "61        1.000000  0.300000  22.875000  RCB  \n",
       "78        1.000000  0.000000  18.600000   DD  \n",
       "82        1.000000  0.600000  48.000000  KXI  "
      ]
     },
     "execution_count": 9,
     "metadata": {},
     "output_type": "execute_result"
    }
   ],
   "source": [
    "bowler[bowler['Price'].isnull()]"
   ]
  },
  {
   "cell_type": "code",
   "execution_count": 10,
   "metadata": {},
   "outputs": [
    {
     "data": {
      "text/html": [
       "<div>\n",
       "<style scoped>\n",
       "    .dataframe tbody tr th:only-of-type {\n",
       "        vertical-align: middle;\n",
       "    }\n",
       "\n",
       "    .dataframe tbody tr th {\n",
       "        vertical-align: top;\n",
       "    }\n",
       "\n",
       "    .dataframe thead th {\n",
       "        text-align: right;\n",
       "    }\n",
       "</style>\n",
       "<table border=\"1\" class=\"dataframe\">\n",
       "  <thead>\n",
       "    <tr style=\"text-align: right;\">\n",
       "      <th></th>\n",
       "      <th>bowler</th>\n",
       "      <th>player_id</th>\n",
       "      <th>role</th>\n",
       "      <th>bowling_style</th>\n",
       "      <th>bowling_arm</th>\n",
       "      <th>Price</th>\n",
       "      <th>country</th>\n",
       "      <th>overs_bowled</th>\n",
       "      <th>consistency</th>\n",
       "      <th>wickets</th>\n",
       "      <th>attacking</th>\n",
       "      <th>maidan_overs</th>\n",
       "      <th>dot%</th>\n",
       "      <th>boundary%</th>\n",
       "      <th>strike_rate</th>\n",
       "      <th>orange_cap</th>\n",
       "      <th>prev_match_count</th>\n",
       "      <th>hauls</th>\n",
       "      <th>experience</th>\n",
       "      <th>Team_Consistency</th>\n",
       "      <th>mom</th>\n",
       "      <th>avg_first_ing</th>\n",
       "      <th>avg_second_ing</th>\n",
       "      <th>bharosa</th>\n",
       "      <th>bharosa2</th>\n",
       "      <th>Team</th>\n",
       "    </tr>\n",
       "  </thead>\n",
       "  <tbody>\n",
       "    <tr>\n",
       "      <th>44</th>\n",
       "      <td>Colin de Grandhomme</td>\n",
       "      <td>610.0</td>\n",
       "      <td>Batting Allrounder</td>\n",
       "      <td>Fast-Medium</td>\n",
       "      <td>Right-Arm</td>\n",
       "      <td>NaN</td>\n",
       "      <td>NaN</td>\n",
       "      <td>17</td>\n",
       "      <td>7.588235</td>\n",
       "      <td>4.0</td>\n",
       "      <td>0.235294</td>\n",
       "      <td>NaN</td>\n",
       "      <td>0.382353</td>\n",
       "      <td>0.941176</td>\n",
       "      <td>3.921569</td>\n",
       "      <td>4.0</td>\n",
       "      <td>9.0</td>\n",
       "      <td>0.0</td>\n",
       "      <td>9</td>\n",
       "      <td>1.0</td>\n",
       "      <td>0.0</td>\n",
       "      <td>0.142857</td>\n",
       "      <td>1.5</td>\n",
       "      <td>0.111111</td>\n",
       "      <td>32.25</td>\n",
       "      <td>RCB</td>\n",
       "    </tr>\n",
       "  </tbody>\n",
       "</table>\n",
       "</div>"
      ],
      "text/plain": [
       "                 bowler  player_id                role bowling_style  \\\n",
       "44  Colin de Grandhomme      610.0  Batting Allrounder   Fast-Medium   \n",
       "\n",
       "   bowling_arm  Price country  overs_bowled  consistency  wickets  attacking  \\\n",
       "44   Right-Arm    NaN     NaN            17     7.588235      4.0   0.235294   \n",
       "\n",
       "    maidan_overs      dot%  boundary%  strike_rate  orange_cap  \\\n",
       "44           NaN  0.382353   0.941176     3.921569         4.0   \n",
       "\n",
       "    prev_match_count  hauls  experience  Team_Consistency  mom  avg_first_ing  \\\n",
       "44               9.0    0.0           9               1.0  0.0       0.142857   \n",
       "\n",
       "    avg_second_ing   bharosa  bharosa2 Team  \n",
       "44             1.5  0.111111     32.25  RCB  "
      ]
     },
     "execution_count": 10,
     "metadata": {},
     "output_type": "execute_result"
    }
   ],
   "source": [
    "bowler[bowler['bowler'] == 'Colin de Grandhomme']"
   ]
  },
  {
   "cell_type": "code",
   "execution_count": 11,
   "metadata": {
    "collapsed": true
   },
   "outputs": [],
   "source": [
    "##price and country\n",
    "\n",
    "batsman.loc[batsman['batsman'] == 'Surya Kumar Yadav', 'Price'] = 320\n",
    "batsman.loc[batsman['batsman'] == 'Faf du Plessis', 'Price'] = 160\n",
    "batsman.loc[batsman['batsman'] == 'Mahendra Singh Dhoni', 'Price'] = 1500\n",
    "batsman.loc[batsman['batsman'] == 'Steven Smith', 'Price'] = 1200\n",
    "batsman.loc[batsman['batsman'] == 'Shakib Al Hasan', 'Price'] = 200\n",
    "batsman.loc[batsman['batsman'] == 'AB De Villiers', 'Price'] = 1100\n",
    "batsman.loc[batsman['batsman'] == 'Gurkeerat Singh Mann', 'Price'] = 75\n",
    "batsman.loc[batsman['batsman'] == 'Quinton de Kock', 'Price'] = 280\n",
    "batsman.loc[batsman['batsman'] == 'Pradeep Sahu', 'Price'] = 20\n",
    "batsman.loc[batsman['batsman'] == 'Colin de Grandhomme', 'Price'] = 220\n",
    "batsman.loc[batsman['batsman'] == 'Washington Sunder', 'Price'] = 320\n",
    "batsman.loc[batsman['batsman'] == 'Ankit Rajput', 'Price'] = 220\n",
    "\n",
    "\n",
    "batsman.loc[batsman['batsman'] == 'Surya Kumar Yadav', 'country'] = 'India'\n",
    "batsman.loc[batsman['batsman'] == 'Faf du Plessis', 'country'] = 'Africa'\n",
    "batsman.loc[batsman['batsman'] == 'Mahendra Singh Dhoni', 'country'] = 'India'\n",
    "batsman.loc[batsman['batsman'] == 'Steven Smith', 'country'] = 'Australia'\n",
    "batsman.loc[batsman['batsman'] == 'Shakib Al Hasan', 'country'] = 'Bangladesh'\n",
    "batsman.loc[batsman['batsman'] == 'AB De Villiers', 'country'] = 'Africa'\n",
    "batsman.loc[batsman['batsman'] == 'Gurkeerat Singh Mann', 'country'] = 'India'\n",
    "batsman.loc[batsman['batsman'] == 'Quinton de Kock', 'country'] = 'Africa'\n",
    "batsman.loc[batsman['batsman'] == 'Pradeep Sahu', 'country'] = 'India'\n",
    "batsman.loc[batsman['batsman'] == 'Colin de Grandhomme', 'country'] = 'Zealand'\n",
    "batsman.loc[batsman['batsman'] == 'Washington Sunder', 'country'] = 'India'\n",
    "batsman.loc[batsman['batsman'] == 'Ankit Rajput', 'country'] = 'India'"
   ]
  },
  {
   "cell_type": "code",
   "execution_count": 12,
   "metadata": {},
   "outputs": [
    {
     "data": {
      "text/plain": [
       "array(['Australia', 'India', 'Zealand', 'Windies', 'Africa', 'Bangladesh',\n",
       "       'England', 'Afghanistan'], dtype=object)"
      ]
     },
     "execution_count": 12,
     "metadata": {},
     "output_type": "execute_result"
    }
   ],
   "source": [
    "batsman['country'].unique()"
   ]
  },
  {
   "cell_type": "code",
   "execution_count": 13,
   "metadata": {},
   "outputs": [
    {
     "data": {
      "text/plain": [
       "Bowler                43\n",
       "Batsman               36\n",
       "WK-Batsman            17\n",
       "Batting Allrounder    15\n",
       "Bowling Allrounder    14\n",
       "Name: role, dtype: int64"
      ]
     },
     "execution_count": 13,
     "metadata": {},
     "output_type": "execute_result"
    }
   ],
   "source": [
    "batsman['role'].value_counts()"
   ]
  },
  {
   "cell_type": "code",
   "execution_count": 14,
   "metadata": {
    "collapsed": true
   },
   "outputs": [],
   "source": [
    "## removing players who won't be attending\n",
    "\n",
    "not_playing = ['Mitchell Santner', 'Mitchell Starc', 'Jason Behrendorff', 'Steven Smith', 'Nathan Coulter-Nile',\n",
    "              '\tDavid Warner']\n",
    "\n",
    "batsman = batsman[~batsman['batsman'].isin(not_playing)]\n",
    "bowler = bowler[~bowler['bowler'].isin(not_playing)]"
   ]
  },
  {
   "cell_type": "code",
   "execution_count": 15,
   "metadata": {
    "collapsed": true
   },
   "outputs": [],
   "source": [
    "## adding team name in batsman \n",
    "\n",
    "df = players[players['Season'] == 2018][['player_id','Team']]\n",
    "\n",
    "batsman = batsman.merge(df, on ='player_id', how='left')"
   ]
  },
  {
   "cell_type": "code",
   "execution_count": 16,
   "metadata": {
    "collapsed": true
   },
   "outputs": [],
   "source": [
    "## minor correction\n",
    "\n",
    "batsman.loc[batsman['batsman'] == 'AB De Villiers', 'role'] = 'Batsman'\n",
    "batsman.loc[batsman['batsman'] == 'Robin Uthappa', 'role'] = 'Batsman'\n",
    "batsman.loc[batsman['batsman'] == 'Jos Buttler', 'role'] = 'Batsman'"
   ]
  },
  {
   "cell_type": "markdown",
   "metadata": {},
   "source": [
    "### selecting top 4 batsman"
   ]
  },
  {
   "cell_type": "code",
   "execution_count": 17,
   "metadata": {
    "collapsed": true
   },
   "outputs": [],
   "source": [
    "temp = batsman[batsman['role'] == 'Batsman'].sort_values(['Team','Average'],ascending=False).groupby(['Team']).head(4)"
   ]
  },
  {
   "cell_type": "code",
   "execution_count": 18,
   "metadata": {
    "collapsed": true
   },
   "outputs": [],
   "source": [
    "batting = temp[['Team','batsman','role','country']]"
   ]
  },
  {
   "cell_type": "code",
   "execution_count": 19,
   "metadata": {
    "collapsed": true
   },
   "outputs": [],
   "source": [
    "batting = batting.rename(columns = {'batsman':'player'})"
   ]
  },
  {
   "cell_type": "markdown",
   "metadata": {},
   "source": [
    "### selecting 1 wk"
   ]
  },
  {
   "cell_type": "code",
   "execution_count": 20,
   "metadata": {
    "collapsed": true
   },
   "outputs": [],
   "source": [
    "temp = batsman[batsman['role'] == 'WK-Batsman'].sort_values(['Team','Price'],ascending=False).groupby(['Team']).head(1)"
   ]
  },
  {
   "cell_type": "code",
   "execution_count": 21,
   "metadata": {
    "collapsed": true
   },
   "outputs": [],
   "source": [
    "wk = temp[['Team','batsman','role','country']]"
   ]
  },
  {
   "cell_type": "code",
   "execution_count": 22,
   "metadata": {
    "collapsed": true
   },
   "outputs": [],
   "source": [
    "wk = wk.rename(columns = {'batsman':'player'})"
   ]
  },
  {
   "cell_type": "markdown",
   "metadata": {},
   "source": [
    "### selecting 3 bowlers"
   ]
  },
  {
   "cell_type": "code",
   "execution_count": 23,
   "metadata": {
    "collapsed": true
   },
   "outputs": [],
   "source": [
    "## adding team name in batsman \n",
    "\n",
    "df = players[players['Season'] == 2018][['player_id','Team']]\n",
    "\n",
    "bowler = bowler.merge(df, on ='player_id', how='left')"
   ]
  },
  {
   "cell_type": "code",
   "execution_count": 32,
   "metadata": {
    "collapsed": true
   },
   "outputs": [],
   "source": [
    "bowler.drop(['Team_y'],axis=1,inplace=True)\n",
    "bowler = bowler.rename(columns ={'Team_x':'Team'})"
   ]
  },
  {
   "cell_type": "code",
   "execution_count": 33,
   "metadata": {
    "collapsed": true
   },
   "outputs": [],
   "source": [
    "temp = bowler[bowler['role'] == 'Bowler'].sort_values(['Team','Price'],ascending=False).groupby(['Team']).head(3)"
   ]
  },
  {
   "cell_type": "code",
   "execution_count": 34,
   "metadata": {
    "collapsed": true
   },
   "outputs": [],
   "source": [
    "bowling = temp[['Team','bowler','role','country']]"
   ]
  },
  {
   "cell_type": "code",
   "execution_count": 35,
   "metadata": {
    "collapsed": true
   },
   "outputs": [],
   "source": [
    "bowling = bowling.rename(columns = {'bowler':'player'})"
   ]
  },
  {
   "cell_type": "markdown",
   "metadata": {},
   "source": [
    "###  selecting 3 all rounder"
   ]
  },
  {
   "cell_type": "code",
   "execution_count": 36,
   "metadata": {
    "collapsed": true
   },
   "outputs": [],
   "source": [
    "temp = batsman[(batsman['role'] == 'Batting Allrounder') | \n",
    "              (batsman['role'] == 'Bowling Allrounder')].sort_values(['Team','Average'],ascending=False).groupby(['Team']).head(3)"
   ]
  },
  {
   "cell_type": "code",
   "execution_count": 37,
   "metadata": {
    "collapsed": true
   },
   "outputs": [],
   "source": [
    "all_round = temp[['Team','batsman','role','country']]"
   ]
  },
  {
   "cell_type": "code",
   "execution_count": 38,
   "metadata": {
    "collapsed": true
   },
   "outputs": [],
   "source": [
    "all_round = all_round.rename(columns = {'batsman':'player'})"
   ]
  },
  {
   "cell_type": "markdown",
   "metadata": {},
   "source": [
    "### playing xi"
   ]
  },
  {
   "cell_type": "code",
   "execution_count": 39,
   "metadata": {
    "collapsed": true
   },
   "outputs": [],
   "source": [
    "playing_xi = pd.concat([batting,wk,all_round,bowling]).sort_values(['Team','role'])"
   ]
  },
  {
   "cell_type": "code",
   "execution_count": 46,
   "metadata": {},
   "outputs": [
    {
     "data": {
      "text/html": [
       "<div>\n",
       "<style scoped>\n",
       "    .dataframe tbody tr th:only-of-type {\n",
       "        vertical-align: middle;\n",
       "    }\n",
       "\n",
       "    .dataframe tbody tr th {\n",
       "        vertical-align: top;\n",
       "    }\n",
       "\n",
       "    .dataframe thead th {\n",
       "        text-align: right;\n",
       "    }\n",
       "</style>\n",
       "<table border=\"1\" class=\"dataframe\">\n",
       "  <thead>\n",
       "    <tr style=\"text-align: right;\">\n",
       "      <th></th>\n",
       "      <th>Team</th>\n",
       "      <th>player</th>\n",
       "      <th>role</th>\n",
       "      <th>country</th>\n",
       "    </tr>\n",
       "  </thead>\n",
       "  <tbody>\n",
       "    <tr>\n",
       "      <th>3</th>\n",
       "      <td>MI</td>\n",
       "      <td>Rohit Sharma</td>\n",
       "      <td>Batsman</td>\n",
       "      <td>India</td>\n",
       "    </tr>\n",
       "    <tr>\n",
       "      <th>7</th>\n",
       "      <td>MI</td>\n",
       "      <td>Surya Kumar Yadav</td>\n",
       "      <td>Batsman</td>\n",
       "      <td>India</td>\n",
       "    </tr>\n",
       "    <tr>\n",
       "      <th>19</th>\n",
       "      <td>MI</td>\n",
       "      <td>J P Duminy</td>\n",
       "      <td>Batsman</td>\n",
       "      <td>Africa</td>\n",
       "    </tr>\n",
       "    <tr>\n",
       "      <th>70</th>\n",
       "      <td>MI</td>\n",
       "      <td>Saurabh Tiwary</td>\n",
       "      <td>Batsman</td>\n",
       "      <td>India</td>\n",
       "    </tr>\n",
       "    <tr>\n",
       "      <th>84</th>\n",
       "      <td>MI</td>\n",
       "      <td>Krunal Pandya</td>\n",
       "      <td>Batting Allrounder</td>\n",
       "      <td>India</td>\n",
       "    </tr>\n",
       "    <tr>\n",
       "      <th>53</th>\n",
       "      <td>MI</td>\n",
       "      <td>Kieron Pollard</td>\n",
       "      <td>Batting Allrounder</td>\n",
       "      <td>Windies</td>\n",
       "    </tr>\n",
       "    <tr>\n",
       "      <th>14</th>\n",
       "      <td>MI</td>\n",
       "      <td>Jasprit Bumrah</td>\n",
       "      <td>Bowler</td>\n",
       "      <td>India</td>\n",
       "    </tr>\n",
       "    <tr>\n",
       "      <th>32</th>\n",
       "      <td>MI</td>\n",
       "      <td>Pat Cummins</td>\n",
       "      <td>Bowler</td>\n",
       "      <td>Australia</td>\n",
       "    </tr>\n",
       "    <tr>\n",
       "      <th>42</th>\n",
       "      <td>MI</td>\n",
       "      <td>Mustafizur Rahman</td>\n",
       "      <td>Bowler</td>\n",
       "      <td>Bangladesh</td>\n",
       "    </tr>\n",
       "    <tr>\n",
       "      <th>96</th>\n",
       "      <td>MI</td>\n",
       "      <td>Hardik Pandya</td>\n",
       "      <td>Bowling Allrounder</td>\n",
       "      <td>India</td>\n",
       "    </tr>\n",
       "    <tr>\n",
       "      <th>81</th>\n",
       "      <td>MI</td>\n",
       "      <td>Ishan Kishan</td>\n",
       "      <td>WK-Batsman</td>\n",
       "      <td>India</td>\n",
       "    </tr>\n",
       "  </tbody>\n",
       "</table>\n",
       "</div>"
      ],
      "text/plain": [
       "   Team             player                role     country\n",
       "3    MI       Rohit Sharma             Batsman       India\n",
       "7    MI  Surya Kumar Yadav             Batsman       India\n",
       "19   MI         J P Duminy             Batsman      Africa\n",
       "70   MI     Saurabh Tiwary             Batsman       India\n",
       "84   MI      Krunal Pandya  Batting Allrounder       India\n",
       "53   MI     Kieron Pollard  Batting Allrounder     Windies\n",
       "14   MI     Jasprit Bumrah              Bowler       India\n",
       "32   MI        Pat Cummins              Bowler   Australia\n",
       "42   MI  Mustafizur Rahman              Bowler  Bangladesh\n",
       "96   MI      Hardik Pandya  Bowling Allrounder       India\n",
       "81   MI       Ishan Kishan          WK-Batsman       India"
      ]
     },
     "execution_count": 46,
     "metadata": {},
     "output_type": "execute_result"
    }
   ],
   "source": [
    "playing_xi[playing_xi['Team'] == 'MI']"
   ]
  },
  {
   "cell_type": "code",
   "execution_count": 41,
   "metadata": {
    "collapsed": true
   },
   "outputs": [],
   "source": [
    "## manual tweaks in playing xi\n",
    "\n",
    "playing_xi.loc[playing_xi['player'] == 'Karn Sharma','player'] = 'Ravindra Jadeja'\n",
    "\n",
    "playing_xi.loc[playing_xi['player'] == 'Jason Roy','country'] = 'Zealand'\n",
    "playing_xi.loc[playing_xi['player'] == 'Jason Roy','player'] = 'Colin Munro'\n",
    "\n",
    "\n",
    "playing_xi.loc[playing_xi['player'] == 'Daniel Christian','role'] = 'Bowler'\n",
    "playing_xi.loc[playing_xi['player'] == 'Daniel Christian','player'] = 'Mohammed Shami'\n",
    "\n",
    "playing_xi.loc[playing_xi['player'] == 'Piyush Chawla','player'] = 'Vinay Kumar'\n",
    "\n",
    "playing_xi.loc[playing_xi['player'] == 'Ben Cutting','country'] = 'India'\n",
    "playing_xi.loc[playing_xi['player'] == 'Ben Cutting','player'] = 'Hardik Pandya'"
   ]
  },
  {
   "cell_type": "code",
   "execution_count": 42,
   "metadata": {
    "collapsed": true
   },
   "outputs": [],
   "source": [
    "playing_xi.loc[playing_xi['player'] == 'David Warner','country'] = 'India'\n",
    "playing_xi.loc[playing_xi['player'] == 'David Warner','player'] = 'Shikhar Dhawan'"
   ]
  },
  {
   "cell_type": "code",
   "execution_count": 43,
   "metadata": {
    "collapsed": true
   },
   "outputs": [],
   "source": [
    "playing_xi.loc[playing_xi['player'] == 'Kagiso Rabada','country'] = 'Zealand'\n",
    "playing_xi.loc[playing_xi['player'] == 'Kagiso Rabada','player'] = 'Trent Boult'"
   ]
  },
  {
   "cell_type": "markdown",
   "metadata": {},
   "source": [
    "### players left\n",
    "\n",
    "1. 1 in KKR -- kamlesh nagarkoti\n",
    "2. 2 in RR  -- Heinrich Klaasen, Ben Laughlin"
   ]
  },
  {
   "cell_type": "code",
   "execution_count": 44,
   "metadata": {},
   "outputs": [
    {
     "data": {
      "text/plain": [
       "(85, 4)"
      ]
     },
     "execution_count": 44,
     "metadata": {},
     "output_type": "execute_result"
    }
   ],
   "source": [
    "playing_xi.shape"
   ]
  },
  {
   "cell_type": "code",
   "execution_count": 215,
   "metadata": {
    "collapsed": true
   },
   "outputs": [],
   "source": [
    "playing_xi.to_csv('saved/playing_xi.csv', index=False)"
   ]
  },
  {
   "cell_type": "code",
   "execution_count": 204,
   "metadata": {
    "collapsed": true
   },
   "outputs": [],
   "source": [
    "batsman.to_csv('saved/final_batsman.csv', index=False)\n",
    "bowler.to_csv('saved/final_bowler.csv', index=False)"
   ]
  },
  {
   "cell_type": "code",
   "execution_count": 211,
   "metadata": {},
   "outputs": [
    {
     "data": {
      "text/html": [
       "<div>\n",
       "<style scoped>\n",
       "    .dataframe tbody tr th:only-of-type {\n",
       "        vertical-align: middle;\n",
       "    }\n",
       "\n",
       "    .dataframe tbody tr th {\n",
       "        vertical-align: top;\n",
       "    }\n",
       "\n",
       "    .dataframe thead th {\n",
       "        text-align: right;\n",
       "    }\n",
       "</style>\n",
       "<table border=\"1\" class=\"dataframe\">\n",
       "  <thead>\n",
       "    <tr style=\"text-align: right;\">\n",
       "      <th></th>\n",
       "      <th>batsman</th>\n",
       "      <th>Average</th>\n",
       "      <th>Season_played</th>\n",
       "      <th>total_runs</th>\n",
       "      <th>100s</th>\n",
       "      <th>50s</th>\n",
       "      <th>30+</th>\n",
       "      <th>total_innings</th>\n",
       "      <th>ability</th>\n",
       "      <th>dot%</th>\n",
       "      <th>power_hitting</th>\n",
       "      <th>consistency</th>\n",
       "      <th>avg_first_ing</th>\n",
       "      <th>avg_second_ing</th>\n",
       "      <th>CSK</th>\n",
       "      <th>DD</th>\n",
       "      <th>GL</th>\n",
       "      <th>KKR</th>\n",
       "      <th>KXI</th>\n",
       "      <th>MI</th>\n",
       "      <th>RCB</th>\n",
       "      <th>RPS</th>\n",
       "      <th>RR</th>\n",
       "      <th>SRH</th>\n",
       "      <th>top_order</th>\n",
       "      <th>Team_Consistency</th>\n",
       "      <th>current_rank</th>\n",
       "      <th>Price</th>\n",
       "      <th>country</th>\n",
       "      <th>last_season_runs</th>\n",
       "      <th>role</th>\n",
       "      <th>mom</th>\n",
       "      <th>player_id</th>\n",
       "      <th>Team</th>\n",
       "    </tr>\n",
       "  </thead>\n",
       "  <tbody>\n",
       "    <tr>\n",
       "      <th>114</th>\n",
       "      <td>Kagiso Rabada</td>\n",
       "      <td>80.882353</td>\n",
       "      <td>2.0</td>\n",
       "      <td>55</td>\n",
       "      <td>0</td>\n",
       "      <td>0</td>\n",
       "      <td>1</td>\n",
       "      <td>3</td>\n",
       "      <td>0.333333</td>\n",
       "      <td>51.470588</td>\n",
       "      <td>0.088235</td>\n",
       "      <td>18.333333</td>\n",
       "      <td>11.0</td>\n",
       "      <td>22.0</td>\n",
       "      <td>0.0</td>\n",
       "      <td>0.0</td>\n",
       "      <td>0.0</td>\n",
       "      <td>0.0</td>\n",
       "      <td>11.0</td>\n",
       "      <td>22.0</td>\n",
       "      <td>0.0</td>\n",
       "      <td>0.0</td>\n",
       "      <td>0.0</td>\n",
       "      <td>0.0</td>\n",
       "      <td>0</td>\n",
       "      <td>2.0</td>\n",
       "      <td>999.0</td>\n",
       "      <td>420.0</td>\n",
       "      <td>Africa</td>\n",
       "      <td>55.0</td>\n",
       "      <td>Bowler</td>\n",
       "      <td>0.0</td>\n",
       "      <td>594</td>\n",
       "      <td>DD</td>\n",
       "    </tr>\n",
       "  </tbody>\n",
       "</table>\n",
       "</div>"
      ],
      "text/plain": [
       "           batsman    Average  Season_played  total_runs  100s  50s  30+  \\\n",
       "114  Kagiso Rabada  80.882353            2.0          55     0    0    1   \n",
       "\n",
       "     total_innings   ability       dot%  power_hitting  consistency  \\\n",
       "114              3  0.333333  51.470588       0.088235    18.333333   \n",
       "\n",
       "     avg_first_ing  avg_second_ing  CSK   DD   GL  KKR   KXI    MI  RCB  RPS  \\\n",
       "114           11.0            22.0  0.0  0.0  0.0  0.0  11.0  22.0  0.0  0.0   \n",
       "\n",
       "      RR  SRH  top_order  Team_Consistency  current_rank  Price country  \\\n",
       "114  0.0  0.0          0               2.0         999.0  420.0  Africa   \n",
       "\n",
       "     last_season_runs    role  mom player_id Team  \n",
       "114              55.0  Bowler  0.0       594   DD  "
      ]
     },
     "execution_count": 211,
     "metadata": {},
     "output_type": "execute_result"
    }
   ],
   "source": [
    "batsman[batsman['batsman'] == 'Kagiso Rabada']"
   ]
  },
  {
   "cell_type": "code",
   "execution_count": 216,
   "metadata": {},
   "outputs": [
    {
     "data": {
      "text/html": [
       "<div>\n",
       "<style scoped>\n",
       "    .dataframe tbody tr th:only-of-type {\n",
       "        vertical-align: middle;\n",
       "    }\n",
       "\n",
       "    .dataframe tbody tr th {\n",
       "        vertical-align: top;\n",
       "    }\n",
       "\n",
       "    .dataframe thead th {\n",
       "        text-align: right;\n",
       "    }\n",
       "</style>\n",
       "<table border=\"1\" class=\"dataframe\">\n",
       "  <thead>\n",
       "    <tr style=\"text-align: right;\">\n",
       "      <th></th>\n",
       "      <th>bowler</th>\n",
       "      <th>player_id</th>\n",
       "      <th>role</th>\n",
       "      <th>bowling_style</th>\n",
       "      <th>bowling_arm</th>\n",
       "      <th>Price</th>\n",
       "      <th>country</th>\n",
       "      <th>overs_bowled</th>\n",
       "      <th>consistency</th>\n",
       "      <th>wickets</th>\n",
       "      <th>attacking</th>\n",
       "      <th>maidan_overs</th>\n",
       "      <th>dot%</th>\n",
       "      <th>boundary%</th>\n",
       "      <th>strike_rate</th>\n",
       "      <th>orange_cap</th>\n",
       "      <th>prev_match_count</th>\n",
       "      <th>hauls</th>\n",
       "      <th>experience</th>\n",
       "      <th>Team_Consistency</th>\n",
       "      <th>mom</th>\n",
       "      <th>avg_first_ing</th>\n",
       "      <th>avg_second_ing</th>\n",
       "      <th>bharosa</th>\n",
       "      <th>bharosa2</th>\n",
       "      <th>Team</th>\n",
       "    </tr>\n",
       "  </thead>\n",
       "  <tbody>\n",
       "    <tr>\n",
       "      <th>17</th>\n",
       "      <td>Trent Boult</td>\n",
       "      <td>565</td>\n",
       "      <td>Bowler</td>\n",
       "      <td>Fast-Medium</td>\n",
       "      <td>Left-Arm</td>\n",
       "      <td>220.0</td>\n",
       "      <td>Zealand</td>\n",
       "      <td>56</td>\n",
       "      <td>8.392857</td>\n",
       "      <td>15.0</td>\n",
       "      <td>0.267857</td>\n",
       "      <td>NaN</td>\n",
       "      <td>0.470238</td>\n",
       "      <td>1.214286</td>\n",
       "      <td>4.464286</td>\n",
       "      <td>5.0</td>\n",
       "      <td>6.0</td>\n",
       "      <td>0.0</td>\n",
       "      <td>14</td>\n",
       "      <td>1.333333</td>\n",
       "      <td>1.0</td>\n",
       "      <td>1.125</td>\n",
       "      <td>1.0</td>\n",
       "      <td>1.0</td>\n",
       "      <td>31.333333</td>\n",
       "      <td>DD</td>\n",
       "    </tr>\n",
       "  </tbody>\n",
       "</table>\n",
       "</div>"
      ],
      "text/plain": [
       "         bowler player_id    role bowling_style bowling_arm  Price  country  \\\n",
       "17  Trent Boult       565  Bowler   Fast-Medium    Left-Arm  220.0  Zealand   \n",
       "\n",
       "    overs_bowled  consistency  wickets  attacking  maidan_overs      dot%  \\\n",
       "17            56     8.392857     15.0   0.267857           NaN  0.470238   \n",
       "\n",
       "    boundary%  strike_rate  orange_cap  prev_match_count  hauls  experience  \\\n",
       "17   1.214286     4.464286         5.0               6.0    0.0          14   \n",
       "\n",
       "    Team_Consistency  mom  avg_first_ing  avg_second_ing  bharosa   bharosa2  \\\n",
       "17          1.333333  1.0          1.125             1.0      1.0  31.333333   \n",
       "\n",
       "   Team  \n",
       "17   DD  "
      ]
     },
     "execution_count": 216,
     "metadata": {},
     "output_type": "execute_result"
    }
   ],
   "source": [
    "bowler[bowler['bowler'] == 'Trent Boult']"
   ]
  },
  {
   "cell_type": "code",
   "execution_count": 7,
   "metadata": {},
   "outputs": [
    {
     "data": {
      "text/html": [
       "<div>\n",
       "<style scoped>\n",
       "    .dataframe tbody tr th:only-of-type {\n",
       "        vertical-align: middle;\n",
       "    }\n",
       "\n",
       "    .dataframe tbody tr th {\n",
       "        vertical-align: top;\n",
       "    }\n",
       "\n",
       "    .dataframe thead th {\n",
       "        text-align: right;\n",
       "    }\n",
       "</style>\n",
       "<table border=\"1\" class=\"dataframe\">\n",
       "  <thead>\n",
       "    <tr style=\"text-align: right;\">\n",
       "      <th></th>\n",
       "      <th>Team</th>\n",
       "      <th>player</th>\n",
       "      <th>role</th>\n",
       "      <th>country</th>\n",
       "    </tr>\n",
       "  </thead>\n",
       "  <tbody>\n",
       "    <tr>\n",
       "      <th>65</th>\n",
       "      <td>RR</td>\n",
       "      <td>Rahul Tripathi</td>\n",
       "      <td>Batsman</td>\n",
       "      <td>India</td>\n",
       "    </tr>\n",
       "    <tr>\n",
       "      <th>66</th>\n",
       "      <td>RR</td>\n",
       "      <td>Jos Buttler</td>\n",
       "      <td>Batsman</td>\n",
       "      <td>England</td>\n",
       "    </tr>\n",
       "    <tr>\n",
       "      <th>67</th>\n",
       "      <td>RR</td>\n",
       "      <td>Ajinkya Rahane</td>\n",
       "      <td>Batsman</td>\n",
       "      <td>India</td>\n",
       "    </tr>\n",
       "    <tr>\n",
       "      <th>68</th>\n",
       "      <td>RR</td>\n",
       "      <td>Stuart Binny</td>\n",
       "      <td>Batting Allrounder</td>\n",
       "      <td>India</td>\n",
       "    </tr>\n",
       "    <tr>\n",
       "      <th>69</th>\n",
       "      <td>RR</td>\n",
       "      <td>Jaydev Unadkat</td>\n",
       "      <td>Bowler</td>\n",
       "      <td>India</td>\n",
       "    </tr>\n",
       "    <tr>\n",
       "      <th>70</th>\n",
       "      <td>RR</td>\n",
       "      <td>Dhawal Kulkarni</td>\n",
       "      <td>Bowler</td>\n",
       "      <td>India</td>\n",
       "    </tr>\n",
       "    <tr>\n",
       "      <th>71</th>\n",
       "      <td>RR</td>\n",
       "      <td>Anureet Singh</td>\n",
       "      <td>Bowler</td>\n",
       "      <td>India</td>\n",
       "    </tr>\n",
       "    <tr>\n",
       "      <th>72</th>\n",
       "      <td>RR</td>\n",
       "      <td>Ben Stokes</td>\n",
       "      <td>Bowling Allrounder</td>\n",
       "      <td>England</td>\n",
       "    </tr>\n",
       "    <tr>\n",
       "      <th>73</th>\n",
       "      <td>RR</td>\n",
       "      <td>Sanju Samson</td>\n",
       "      <td>WK-Batsman</td>\n",
       "      <td>India</td>\n",
       "    </tr>\n",
       "  </tbody>\n",
       "</table>\n",
       "</div>"
      ],
      "text/plain": [
       "   Team           player                role  country\n",
       "65   RR   Rahul Tripathi             Batsman    India\n",
       "66   RR      Jos Buttler             Batsman  England\n",
       "67   RR   Ajinkya Rahane             Batsman    India\n",
       "68   RR     Stuart Binny  Batting Allrounder    India\n",
       "69   RR   Jaydev Unadkat              Bowler    India\n",
       "70   RR  Dhawal Kulkarni              Bowler    India\n",
       "71   RR    Anureet Singh              Bowler    India\n",
       "72   RR       Ben Stokes  Bowling Allrounder  England\n",
       "73   RR     Sanju Samson          WK-Batsman    India"
      ]
     },
     "execution_count": 7,
     "metadata": {},
     "output_type": "execute_result"
    }
   ],
   "source": [
    "xi[xi['Team'] == 'RR']"
   ]
  },
  {
   "cell_type": "code",
   "execution_count": null,
   "metadata": {
    "collapsed": true
   },
   "outputs": [],
   "source": []
  }
 ],
 "metadata": {
  "kernelspec": {
   "display_name": "Python 3",
   "language": "python",
   "name": "python3"
  },
  "language_info": {
   "codemirror_mode": {
    "name": "ipython",
    "version": 3
   },
   "file_extension": ".py",
   "mimetype": "text/x-python",
   "name": "python",
   "nbconvert_exporter": "python",
   "pygments_lexer": "ipython3",
   "version": "3.6.1"
  }
 },
 "nbformat": 4,
 "nbformat_minor": 2
}
